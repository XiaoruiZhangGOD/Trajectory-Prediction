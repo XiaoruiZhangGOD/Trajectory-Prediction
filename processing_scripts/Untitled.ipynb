{
 "cells": [
  {
   "cell_type": "code",
   "execution_count": 1,
   "metadata": {
    "collapsed": true
   },
   "outputs": [],
   "source": [
    "from simple_processing import *\n"
   ]
  },
  {
   "cell_type": "code",
   "execution_count": 2,
   "metadata": {
    "collapsed": true
   },
   "outputs": [],
   "source": [
    "# contants\n",
    "fname = '../train_data/stanford/bookstore_0.txt'     # location of the datafile\n"
   ]
  },
  {
   "cell_type": "code",
   "execution_count": 3,
   "metadata": {
    "collapsed": true
   },
   "outputs": [],
   "source": [
    "trajectories_simple, trajectories_others = process_text_file(fname)\n"
   ]
  },
  {
   "cell_type": "code",
   "execution_count": 5,
   "metadata": {
    "collapsed": false
   },
   "outputs": [
    {
     "data": {
      "text/plain": [
       "[(6876.0, 17.0, 893.5),\n",
       " (6888.0, 17.0, 893.5),\n",
       " (6900.0, 19.0, 904.0),\n",
       " (6912.0, 31.0, 904.0),\n",
       " (6924.0, 45.0, 906.5),\n",
       " (6936.0, 57.0, 908.5),\n",
       " (6948.0, 71.0, 910.5),\n",
       " (6960.0, 84.5, 913.0),\n",
       " (6972.0, 98.5, 917.5),\n",
       " (6984.0, 112.0, 919.5),\n",
       " (6996.0, 128.0, 919.5),\n",
       " (7008.0, 143.0, 919.5),\n",
       " (7020.0, 159.0, 922.0),\n",
       " (7032.0, 174.5, 923.5),\n",
       " (7044.0, 190.5, 925.5),\n",
       " (7056.0, 206.0, 927.5),\n",
       " (7068.0, 221.0, 927.5),\n",
       " (7080.0, 237.0, 927.5),\n",
       " (7092.0, 250.5, 923.5),\n",
       " (7104.0, 266.5, 920.5)]"
      ]
     },
     "execution_count": 5,
     "metadata": {},
     "output_type": "execute_result"
    }
   ],
   "source": [
    "trajectories_simple[2]"
   ]
  },
  {
   "cell_type": "code",
   "execution_count": null,
   "metadata": {
    "collapsed": true
   },
   "outputs": [],
   "source": []
  }
 ],
 "metadata": {
  "kernelspec": {
   "display_name": "Python 2",
   "language": "python",
   "name": "python2"
  },
  "language_info": {
   "codemirror_mode": {
    "name": "ipython",
    "version": 2
   },
   "file_extension": ".py",
   "mimetype": "text/x-python",
   "name": "python",
   "nbconvert_exporter": "python",
   "pygments_lexer": "ipython2",
   "version": "2.7.10"
  }
 },
 "nbformat": 4,
 "nbformat_minor": 0
}
