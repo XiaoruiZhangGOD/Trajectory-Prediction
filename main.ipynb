{
 "cells": [
  {
   "cell_type": "code",
   "execution_count": 1,
   "metadata": {
    "collapsed": true
   },
   "outputs": [],
   "source": [
    "import sys\n",
    "sys.path.append('./processing_scripts/')\n",
    "import numpy as np\n",
    "from simple_processing import load_simple_array, load_others_array\n",
    "from linear_error import compute_linear_error"
   ]
  },
  {
   "cell_type": "code",
   "execution_count": 2,
   "metadata": {
    "collapsed": true
   },
   "outputs": [],
   "source": [
    "# constants\n",
    "fname = './train_data/stanford/gates_5.txt'     # location of the datafile\n",
    "N_pixels = 20                                    # number of grid points per length in others array\n",
    "Nf = 10                                          # number of frames to observe before making prediction"
   ]
  },
  {
   "cell_type": "code",
   "execution_count": 3,
   "metadata": {
    "collapsed": true
   },
   "outputs": [],
   "source": [
    "# Load the text file into the array formats\n",
    "trajectories_simple = load_simple_array(fname)\n",
    "trajectories_others = load_others_array(fname,N_pixels)"
   ]
  },
  {
   "cell_type": "code",
   "execution_count": 9,
   "metadata": {},
   "outputs": [
    {
     "name": "stdout",
     "output_type": "stream",
     "text": [
      "(20, 2)\n"
     ]
    },
    {
     "data": {
      "text/plain": [
       "(34, 20, 2)"
      ]
     },
     "execution_count": 9,
     "metadata": {},
     "output_type": "execute_result"
    }
   ],
   "source": [
    "# print the first simple trajectory\n",
    "#print trajectories_simple\n",
    "print(trajectories_simple[0].shape)\n",
    "c = np.stack(trajectories_simple)\n",
    "c.shape"
   ]
  },
  {
   "cell_type": "code",
   "execution_count": 17,
   "metadata": {},
   "outputs": [
    {
     "name": "stdout",
     "output_type": "stream",
     "text": [
      "[[ 1.          0.7989071   0.         ...,  0.          0.          0.        ]\n",
      " [ 0.98999285  0.7989071   0.         ...,  0.          0.          0.        ]\n",
      " [ 0.9799857   0.7989071   0.         ...,  0.          0.          0.        ]\n",
      " ..., \n",
      " [ 0.81558256  0.80546448  0.         ...,  0.          0.          0.        ]\n",
      " [ 0.80593281  0.8079235   0.         ...,  0.          0.          0.        ]\n",
      " [ 0.79592566  0.81038251  0.         ...,  0.          0.          0.        ]]\n"
     ]
    }
   ],
   "source": [
    "# print the first trajectory with flattened 'other' array\n",
    "print(trajectories_others[0])"
   ]
  },
  {
   "cell_type": "code",
   "execution_count": 18,
   "metadata": {
    "collapsed": true
   },
   "outputs": [],
   "source": [
    "# compute linear errors on both simple list and list containing others array\n",
    "linear_error_simple = compute_linear_error(trajectories_simple,Nf)\n",
    "linear_error_others = compute_linear_error(trajectories_others,Nf)"
   ]
  },
  {
   "cell_type": "code",
   "execution_count": 19,
   "metadata": {},
   "outputs": [
    {
     "name": "stdout",
     "output_type": "stream",
     "text": [
      "0.0347016225114\n",
      "0.0347016225114\n"
     ]
    }
   ],
   "source": [
    "# print results, should be equal\n",
    "print(linear_error_simple)\n",
    "print(linear_error_others)"
   ]
  },
  {
   "cell_type": "code",
   "execution_count": null,
   "metadata": {
    "collapsed": true
   },
   "outputs": [],
   "source": []
  },
  {
   "cell_type": "code",
   "execution_count": null,
   "metadata": {
    "collapsed": true
   },
   "outputs": [],
   "source": []
  }
 ],
 "metadata": {
  "kernelspec": {
   "display_name": "Python 2",
   "language": "python",
   "name": "python2"
  },
  "language_info": {
   "codemirror_mode": {
    "name": "ipython",
    "version": 2
   },
   "file_extension": ".py",
   "mimetype": "text/x-python",
   "name": "python",
   "nbconvert_exporter": "python",
   "pygments_lexer": "ipython2",
   "version": "2.7.13"
  }
 },
 "nbformat": 4,
 "nbformat_minor": 1
}
